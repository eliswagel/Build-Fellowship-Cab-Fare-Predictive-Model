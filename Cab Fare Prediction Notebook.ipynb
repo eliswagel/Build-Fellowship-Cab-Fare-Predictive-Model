{
 "cells": [
  {
   "cell_type": "code",
   "execution_count": 39,
   "id": "e9e4d154",
   "metadata": {},
   "outputs": [],
   "source": [
    "# Loading in all of my necessary libraries\n",
    "import pandas as pd\n",
    "import numpy as np\n",
    "import matplotlib as plt\n",
    "import seaborn as sns\n",
    "import pyarrow.parquet as pq\n",
    "pd.set_option('display.max_columns', None)"
   ]
  },
  {
   "cell_type": "code",
   "execution_count": 3,
   "id": "2142f37f",
   "metadata": {},
   "outputs": [
    {
     "data": {
      "text/html": [
       "<div>\n",
       "<style scoped>\n",
       "    .dataframe tbody tr th:only-of-type {\n",
       "        vertical-align: middle;\n",
       "    }\n",
       "\n",
       "    .dataframe tbody tr th {\n",
       "        vertical-align: top;\n",
       "    }\n",
       "\n",
       "    .dataframe thead th {\n",
       "        text-align: right;\n",
       "    }\n",
       "</style>\n",
       "<table border=\"1\" class=\"dataframe\">\n",
       "  <thead>\n",
       "    <tr style=\"text-align: right;\">\n",
       "      <th></th>\n",
       "      <th>LocationID</th>\n",
       "      <th>Borough</th>\n",
       "      <th>Zone</th>\n",
       "      <th>service_zone</th>\n",
       "    </tr>\n",
       "  </thead>\n",
       "  <tbody>\n",
       "    <tr>\n",
       "      <th>0</th>\n",
       "      <td>1</td>\n",
       "      <td>EWR</td>\n",
       "      <td>Newark Airport</td>\n",
       "      <td>EWR</td>\n",
       "    </tr>\n",
       "    <tr>\n",
       "      <th>1</th>\n",
       "      <td>2</td>\n",
       "      <td>Queens</td>\n",
       "      <td>Jamaica Bay</td>\n",
       "      <td>Boro Zone</td>\n",
       "    </tr>\n",
       "    <tr>\n",
       "      <th>2</th>\n",
       "      <td>3</td>\n",
       "      <td>Bronx</td>\n",
       "      <td>Allerton/Pelham Gardens</td>\n",
       "      <td>Boro Zone</td>\n",
       "    </tr>\n",
       "    <tr>\n",
       "      <th>3</th>\n",
       "      <td>4</td>\n",
       "      <td>Manhattan</td>\n",
       "      <td>Alphabet City</td>\n",
       "      <td>Yellow Zone</td>\n",
       "    </tr>\n",
       "    <tr>\n",
       "      <th>4</th>\n",
       "      <td>5</td>\n",
       "      <td>Staten Island</td>\n",
       "      <td>Arden Heights</td>\n",
       "      <td>Boro Zone</td>\n",
       "    </tr>\n",
       "    <tr>\n",
       "      <th>...</th>\n",
       "      <td>...</td>\n",
       "      <td>...</td>\n",
       "      <td>...</td>\n",
       "      <td>...</td>\n",
       "    </tr>\n",
       "    <tr>\n",
       "      <th>260</th>\n",
       "      <td>261</td>\n",
       "      <td>Manhattan</td>\n",
       "      <td>World Trade Center</td>\n",
       "      <td>Yellow Zone</td>\n",
       "    </tr>\n",
       "    <tr>\n",
       "      <th>261</th>\n",
       "      <td>262</td>\n",
       "      <td>Manhattan</td>\n",
       "      <td>Yorkville East</td>\n",
       "      <td>Yellow Zone</td>\n",
       "    </tr>\n",
       "    <tr>\n",
       "      <th>262</th>\n",
       "      <td>263</td>\n",
       "      <td>Manhattan</td>\n",
       "      <td>Yorkville West</td>\n",
       "      <td>Yellow Zone</td>\n",
       "    </tr>\n",
       "    <tr>\n",
       "      <th>263</th>\n",
       "      <td>264</td>\n",
       "      <td>Unknown</td>\n",
       "      <td>NaN</td>\n",
       "      <td>NaN</td>\n",
       "    </tr>\n",
       "    <tr>\n",
       "      <th>264</th>\n",
       "      <td>265</td>\n",
       "      <td>NaN</td>\n",
       "      <td>Outside of NYC</td>\n",
       "      <td>NaN</td>\n",
       "    </tr>\n",
       "  </tbody>\n",
       "</table>\n",
       "<p>265 rows × 4 columns</p>\n",
       "</div>"
      ],
      "text/plain": [
       "     LocationID        Borough                     Zone service_zone\n",
       "0             1            EWR           Newark Airport          EWR\n",
       "1             2         Queens              Jamaica Bay    Boro Zone\n",
       "2             3          Bronx  Allerton/Pelham Gardens    Boro Zone\n",
       "3             4      Manhattan            Alphabet City  Yellow Zone\n",
       "4             5  Staten Island            Arden Heights    Boro Zone\n",
       "..          ...            ...                      ...          ...\n",
       "260         261      Manhattan       World Trade Center  Yellow Zone\n",
       "261         262      Manhattan           Yorkville East  Yellow Zone\n",
       "262         263      Manhattan           Yorkville West  Yellow Zone\n",
       "263         264        Unknown                      NaN          NaN\n",
       "264         265            NaN           Outside of NYC          NaN\n",
       "\n",
       "[265 rows x 4 columns]"
      ]
     },
     "execution_count": 3,
     "metadata": {},
     "output_type": "execute_result"
    }
   ],
   "source": [
    "# Reading in the Taxi Zones Lookup table and taking a look at it\n",
    "Taxi_Zones = pd.read_csv(\"taxi_zone_lookup.csv\")\n",
    "Taxi_Zones"
   ]
  },
  {
   "cell_type": "code",
   "execution_count": 4,
   "id": "06acc9f0",
   "metadata": {},
   "outputs": [
    {
     "name": "stdout",
     "output_type": "stream",
     "text": [
      "(6405008, 19)\n"
     ]
    }
   ],
   "source": [
    "# Reading in my Yellow Taxi Cab dataset and inspecting its shape\n",
    "Taxi_Data = pd.read_parquet(\"yellow_tripdata_2020-01.parquet\")\n",
    "print(Taxi_Data.shape)"
   ]
  },
  {
   "cell_type": "code",
   "execution_count": 5,
   "id": "5a2a4af9",
   "metadata": {},
   "outputs": [],
   "source": [
    "# Build lookup dictionaries\n",
    "borough_lookup = Taxi_Zones.set_index(\"LocationID\")[\"Borough\"].to_dict()\n",
    "zone_lookup    = Taxi_Zones.set_index(\"LocationID\")[\"Zone\"].to_dict()\n",
    "\n",
    "# Map directly into Taxi_Data\n",
    "Taxi_Data[\"PU_Borough\"] = Taxi_Data[\"PULocationID\"].map(borough_lookup)\n",
    "Taxi_Data[\"PU_Zone\"]    = Taxi_Data[\"PULocationID\"].map(zone_lookup)\n",
    "Taxi_Data[\"DO_Borough\"] = Taxi_Data[\"DOLocationID\"].map(borough_lookup)\n",
    "Taxi_Data[\"DO_Zone\"]    = Taxi_Data[\"DOLocationID\"].map(zone_lookup)\n",
    "\n",
    "# Optional: reorder so new cols sit after IDs\n",
    "cols = list(Taxi_Data.columns)\n",
    "for loc, boro, zone in [\n",
    "    (\"PULocationID\", \"PU_Borough\", \"PU_Zone\"),\n",
    "    (\"DOLocationID\", \"DO_Borough\", \"DO_Zone\")\n",
    "]:\n",
    "    idx = cols.index(loc)\n",
    "    cols = cols[:idx+1] + [boro, zone] + [c for c in cols[idx+1:] if c not in [boro, zone]]\n",
    "\n",
    "Taxi_Data = Taxi_Data[cols]"
   ]
  },
  {
   "cell_type": "code",
   "execution_count": 6,
   "id": "c201c418",
   "metadata": {},
   "outputs": [
    {
     "data": {
      "text/html": [
       "<div>\n",
       "<style scoped>\n",
       "    .dataframe tbody tr th:only-of-type {\n",
       "        vertical-align: middle;\n",
       "    }\n",
       "\n",
       "    .dataframe tbody tr th {\n",
       "        vertical-align: top;\n",
       "    }\n",
       "\n",
       "    .dataframe thead th {\n",
       "        text-align: right;\n",
       "    }\n",
       "</style>\n",
       "<table border=\"1\" class=\"dataframe\">\n",
       "  <thead>\n",
       "    <tr style=\"text-align: right;\">\n",
       "      <th></th>\n",
       "      <th>VendorID</th>\n",
       "      <th>tpep_pickup_datetime</th>\n",
       "      <th>tpep_dropoff_datetime</th>\n",
       "      <th>passenger_count</th>\n",
       "      <th>trip_distance</th>\n",
       "      <th>RatecodeID</th>\n",
       "      <th>store_and_fwd_flag</th>\n",
       "      <th>PULocationID</th>\n",
       "      <th>PU_Borough</th>\n",
       "      <th>PU_Zone</th>\n",
       "      <th>DOLocationID</th>\n",
       "      <th>DO_Borough</th>\n",
       "      <th>DO_Zone</th>\n",
       "      <th>payment_type</th>\n",
       "      <th>fare_amount</th>\n",
       "      <th>extra</th>\n",
       "      <th>mta_tax</th>\n",
       "      <th>tip_amount</th>\n",
       "      <th>tolls_amount</th>\n",
       "      <th>improvement_surcharge</th>\n",
       "      <th>total_amount</th>\n",
       "      <th>congestion_surcharge</th>\n",
       "      <th>airport_fee</th>\n",
       "    </tr>\n",
       "  </thead>\n",
       "  <tbody>\n",
       "    <tr>\n",
       "      <th>0</th>\n",
       "      <td>1</td>\n",
       "      <td>2020-01-01 00:28:15</td>\n",
       "      <td>2020-01-01 00:33:03</td>\n",
       "      <td>1.0</td>\n",
       "      <td>1.2</td>\n",
       "      <td>1.0</td>\n",
       "      <td>N</td>\n",
       "      <td>238</td>\n",
       "      <td>Manhattan</td>\n",
       "      <td>Upper West Side North</td>\n",
       "      <td>239</td>\n",
       "      <td>Manhattan</td>\n",
       "      <td>Upper West Side South</td>\n",
       "      <td>1</td>\n",
       "      <td>6.0</td>\n",
       "      <td>3.0</td>\n",
       "      <td>0.5</td>\n",
       "      <td>1.47</td>\n",
       "      <td>0.0</td>\n",
       "      <td>0.3</td>\n",
       "      <td>11.27</td>\n",
       "      <td>2.5</td>\n",
       "      <td>None</td>\n",
       "    </tr>\n",
       "    <tr>\n",
       "      <th>1</th>\n",
       "      <td>1</td>\n",
       "      <td>2020-01-01 00:35:39</td>\n",
       "      <td>2020-01-01 00:43:04</td>\n",
       "      <td>1.0</td>\n",
       "      <td>1.2</td>\n",
       "      <td>1.0</td>\n",
       "      <td>N</td>\n",
       "      <td>239</td>\n",
       "      <td>Manhattan</td>\n",
       "      <td>Upper West Side South</td>\n",
       "      <td>238</td>\n",
       "      <td>Manhattan</td>\n",
       "      <td>Upper West Side North</td>\n",
       "      <td>1</td>\n",
       "      <td>7.0</td>\n",
       "      <td>3.0</td>\n",
       "      <td>0.5</td>\n",
       "      <td>1.50</td>\n",
       "      <td>0.0</td>\n",
       "      <td>0.3</td>\n",
       "      <td>12.30</td>\n",
       "      <td>2.5</td>\n",
       "      <td>None</td>\n",
       "    </tr>\n",
       "    <tr>\n",
       "      <th>2</th>\n",
       "      <td>1</td>\n",
       "      <td>2020-01-01 00:47:41</td>\n",
       "      <td>2020-01-01 00:53:52</td>\n",
       "      <td>1.0</td>\n",
       "      <td>0.6</td>\n",
       "      <td>1.0</td>\n",
       "      <td>N</td>\n",
       "      <td>238</td>\n",
       "      <td>Manhattan</td>\n",
       "      <td>Upper West Side North</td>\n",
       "      <td>238</td>\n",
       "      <td>Manhattan</td>\n",
       "      <td>Upper West Side North</td>\n",
       "      <td>1</td>\n",
       "      <td>6.0</td>\n",
       "      <td>3.0</td>\n",
       "      <td>0.5</td>\n",
       "      <td>1.00</td>\n",
       "      <td>0.0</td>\n",
       "      <td>0.3</td>\n",
       "      <td>10.80</td>\n",
       "      <td>2.5</td>\n",
       "      <td>None</td>\n",
       "    </tr>\n",
       "    <tr>\n",
       "      <th>3</th>\n",
       "      <td>1</td>\n",
       "      <td>2020-01-01 00:55:23</td>\n",
       "      <td>2020-01-01 01:00:14</td>\n",
       "      <td>1.0</td>\n",
       "      <td>0.8</td>\n",
       "      <td>1.0</td>\n",
       "      <td>N</td>\n",
       "      <td>238</td>\n",
       "      <td>Manhattan</td>\n",
       "      <td>Upper West Side North</td>\n",
       "      <td>151</td>\n",
       "      <td>Manhattan</td>\n",
       "      <td>Manhattan Valley</td>\n",
       "      <td>1</td>\n",
       "      <td>5.5</td>\n",
       "      <td>0.5</td>\n",
       "      <td>0.5</td>\n",
       "      <td>1.36</td>\n",
       "      <td>0.0</td>\n",
       "      <td>0.3</td>\n",
       "      <td>8.16</td>\n",
       "      <td>0.0</td>\n",
       "      <td>None</td>\n",
       "    </tr>\n",
       "    <tr>\n",
       "      <th>4</th>\n",
       "      <td>2</td>\n",
       "      <td>2020-01-01 00:01:58</td>\n",
       "      <td>2020-01-01 00:04:16</td>\n",
       "      <td>1.0</td>\n",
       "      <td>0.0</td>\n",
       "      <td>1.0</td>\n",
       "      <td>N</td>\n",
       "      <td>193</td>\n",
       "      <td>Queens</td>\n",
       "      <td>Queensbridge/Ravenswood</td>\n",
       "      <td>193</td>\n",
       "      <td>Queens</td>\n",
       "      <td>Queensbridge/Ravenswood</td>\n",
       "      <td>2</td>\n",
       "      <td>3.5</td>\n",
       "      <td>0.5</td>\n",
       "      <td>0.5</td>\n",
       "      <td>0.00</td>\n",
       "      <td>0.0</td>\n",
       "      <td>0.3</td>\n",
       "      <td>4.80</td>\n",
       "      <td>0.0</td>\n",
       "      <td>None</td>\n",
       "    </tr>\n",
       "  </tbody>\n",
       "</table>\n",
       "</div>"
      ],
      "text/plain": [
       "   VendorID tpep_pickup_datetime tpep_dropoff_datetime  passenger_count  \\\n",
       "0         1  2020-01-01 00:28:15   2020-01-01 00:33:03              1.0   \n",
       "1         1  2020-01-01 00:35:39   2020-01-01 00:43:04              1.0   \n",
       "2         1  2020-01-01 00:47:41   2020-01-01 00:53:52              1.0   \n",
       "3         1  2020-01-01 00:55:23   2020-01-01 01:00:14              1.0   \n",
       "4         2  2020-01-01 00:01:58   2020-01-01 00:04:16              1.0   \n",
       "\n",
       "   trip_distance  RatecodeID store_and_fwd_flag  PULocationID PU_Borough  \\\n",
       "0            1.2         1.0                  N           238  Manhattan   \n",
       "1            1.2         1.0                  N           239  Manhattan   \n",
       "2            0.6         1.0                  N           238  Manhattan   \n",
       "3            0.8         1.0                  N           238  Manhattan   \n",
       "4            0.0         1.0                  N           193     Queens   \n",
       "\n",
       "                   PU_Zone  DOLocationID DO_Borough                  DO_Zone  \\\n",
       "0    Upper West Side North           239  Manhattan    Upper West Side South   \n",
       "1    Upper West Side South           238  Manhattan    Upper West Side North   \n",
       "2    Upper West Side North           238  Manhattan    Upper West Side North   \n",
       "3    Upper West Side North           151  Manhattan         Manhattan Valley   \n",
       "4  Queensbridge/Ravenswood           193     Queens  Queensbridge/Ravenswood   \n",
       "\n",
       "   payment_type  fare_amount  extra  mta_tax  tip_amount  tolls_amount  \\\n",
       "0             1          6.0    3.0      0.5        1.47           0.0   \n",
       "1             1          7.0    3.0      0.5        1.50           0.0   \n",
       "2             1          6.0    3.0      0.5        1.00           0.0   \n",
       "3             1          5.5    0.5      0.5        1.36           0.0   \n",
       "4             2          3.5    0.5      0.5        0.00           0.0   \n",
       "\n",
       "   improvement_surcharge  total_amount  congestion_surcharge airport_fee  \n",
       "0                    0.3         11.27                   2.5        None  \n",
       "1                    0.3         12.30                   2.5        None  \n",
       "2                    0.3         10.80                   2.5        None  \n",
       "3                    0.3          8.16                   0.0        None  \n",
       "4                    0.3          4.80                   0.0        None  "
      ]
     },
     "execution_count": 6,
     "metadata": {},
     "output_type": "execute_result"
    }
   ],
   "source": [
    "# Taking a Look at the dataset to see if my columpns updated correctly\n",
    "Taxi_Data.head()"
   ]
  },
  {
   "cell_type": "code",
   "execution_count": 12,
   "id": "d9365074",
   "metadata": {},
   "outputs": [
    {
     "data": {
      "text/plain": [
       "VendorID                       0\n",
       "tpep_pickup_datetime           0\n",
       "tpep_dropoff_datetime          0\n",
       "passenger_count                0\n",
       "trip_distance                  0\n",
       "RatecodeID                     0\n",
       "store_and_fwd_flag             0\n",
       "PULocationID                   0\n",
       "PU_Borough                  3090\n",
       "PU_Zone                    43779\n",
       "DOLocationID                   0\n",
       "DO_Borough                 14858\n",
       "DO_Zone                    39678\n",
       "payment_type                   0\n",
       "fare_amount                    0\n",
       "extra                          0\n",
       "mta_tax                        0\n",
       "tip_amount                     0\n",
       "tolls_amount                   0\n",
       "improvement_surcharge          0\n",
       "total_amount                   0\n",
       "congestion_surcharge           0\n",
       "airport_fee              6339567\n",
       "dtype: int64"
      ]
     },
     "execution_count": 12,
     "metadata": {},
     "output_type": "execute_result"
    }
   ],
   "source": [
    "# Count of the null values seen in each column of the dataset\n",
    "Taxi_Data.isnull().sum()"
   ]
  },
  {
   "cell_type": "code",
   "execution_count": 8,
   "id": "d7006ceb",
   "metadata": {},
   "outputs": [
    {
     "name": "stdout",
     "output_type": "stream",
     "text": [
      "store_and_fwd_flag\n",
      "N       6271447\n",
      "Y         68120\n",
      "None      65441\n",
      "Name: count, dtype: int64\n"
     ]
    }
   ],
   "source": [
    "# Count rows with Y vs N in store_and_fwd_flag\n",
    "print(Taxi_Data['store_and_fwd_flag'].value_counts(dropna=False))"
   ]
  },
  {
   "cell_type": "code",
   "execution_count": 9,
   "id": "5f4c16c6",
   "metadata": {},
   "outputs": [
    {
     "name": "stdout",
     "output_type": "stream",
     "text": [
      "Total rows with store_and_fwd_flag NaN: 65441\n",
      "... with passenger_count NaN: 65441\n",
      "... with RatecodeID NaN: 65441\n",
      "Rows with all three missing: 65441\n"
     ]
    }
   ],
   "source": [
    "# Creating a df of all the rows with missing values in its \"store_and_fwd_column\"\n",
    "missing_fwd = Taxi_Data[Taxi_Data['store_and_fwd_flag'].isna()]\n",
    "\n",
    "# Count how many of these also have passenger_count or RatecodeID missing\n",
    "print(\"Total rows with store_and_fwd_flag NaN:\", missing_fwd.shape[0])\n",
    "print(\"... with passenger_count NaN:\", missing_fwd['passenger_count'].isna().sum())\n",
    "print(\"... with RatecodeID NaN:\", missing_fwd['RatecodeID'].isna().sum())\n",
    "\n",
    "# Rows where all 3 are missing\n",
    "all_three_missing = missing_fwd[\n",
    "    missing_fwd['passenger_count'].isna() & missing_fwd['RatecodeID'].isna()\n",
    "]\n",
    "print(\"Rows with all three missing:\", all_three_missing.shape[0])\n",
    "# Drop rows where passenger_count, RatecodeID, and store_and_fwd_flag are all NaN\n",
    "Taxi_Data = Taxi_Data.dropna(subset=['passenger_count', 'RatecodeID', 'store_and_fwd_flag'])"
   ]
  },
  {
   "cell_type": "code",
   "execution_count": 23,
   "id": "d00e6d45",
   "metadata": {},
   "outputs": [
    {
     "data": {
      "text/html": [
       "<div>\n",
       "<style scoped>\n",
       "    .dataframe tbody tr th:only-of-type {\n",
       "        vertical-align: middle;\n",
       "    }\n",
       "\n",
       "    .dataframe tbody tr th {\n",
       "        vertical-align: top;\n",
       "    }\n",
       "\n",
       "    .dataframe thead th {\n",
       "        text-align: right;\n",
       "    }\n",
       "</style>\n",
       "<table border=\"1\" class=\"dataframe\">\n",
       "  <thead>\n",
       "    <tr style=\"text-align: right;\">\n",
       "      <th></th>\n",
       "      <th>LocationID</th>\n",
       "      <th>PU_Count</th>\n",
       "      <th>PU_Borough_NaN</th>\n",
       "      <th>PU_Zone_NaN</th>\n",
       "      <th>DO_Count</th>\n",
       "      <th>DO_Borough_NaN</th>\n",
       "      <th>DO_Zone_NaN</th>\n",
       "    </tr>\n",
       "  </thead>\n",
       "  <tbody>\n",
       "    <tr>\n",
       "      <th>0</th>\n",
       "      <td>264</td>\n",
       "      <td>43779</td>\n",
       "      <td>0</td>\n",
       "      <td>43779</td>\n",
       "      <td>39678</td>\n",
       "      <td>0</td>\n",
       "      <td>39678</td>\n",
       "    </tr>\n",
       "    <tr>\n",
       "      <th>1</th>\n",
       "      <td>265</td>\n",
       "      <td>3090</td>\n",
       "      <td>3090</td>\n",
       "      <td>0</td>\n",
       "      <td>14858</td>\n",
       "      <td>14858</td>\n",
       "      <td>0</td>\n",
       "    </tr>\n",
       "  </tbody>\n",
       "</table>\n",
       "</div>"
      ],
      "text/plain": [
       "   LocationID  PU_Count  PU_Borough_NaN  PU_Zone_NaN  DO_Count  \\\n",
       "0         264     43779               0        43779     39678   \n",
       "1         265      3090            3090            0     14858   \n",
       "\n",
       "   DO_Borough_NaN  DO_Zone_NaN  \n",
       "0               0        39678  \n",
       "1           14858            0  "
      ]
     },
     "execution_count": 23,
     "metadata": {},
     "output_type": "execute_result"
    }
   ],
   "source": [
    "# Identifying that 264 and 265 are special Location ID's as 264's Borough is \"unknown\" and its zone is \"NaN\"\n",
    "# 265's borough is NaN and its zone is \"Outside of NYC\"\n",
    "special_ids = [264, 265]\n",
    "\n",
    "summary = []\n",
    "\n",
    "# This creates a table showing how many rows have 264 or 265 as its DO or PU Location ID, and\n",
    "# the count of missing values in these rows respective PU and DO Borough and Zones\n",
    "for loc_id in special_ids:\n",
    "    # PU stats\n",
    "    pu_rows = Taxi_Data[Taxi_Data['PULocationID'] == loc_id]\n",
    "    pu_total = len(pu_rows)\n",
    "    pu_missing_borough = pu_rows['PU_Borough'].isna().sum()\n",
    "    pu_missing_zone = pu_rows['PU_Zone'].isna().sum()\n",
    "    \n",
    "    # DO stats\n",
    "    do_rows = Taxi_Data[Taxi_Data['DOLocationID'] == loc_id]\n",
    "    do_total = len(do_rows)\n",
    "    do_missing_borough = do_rows['DO_Borough'].isna().sum()\n",
    "    do_missing_zone = do_rows['DO_Zone'].isna().sum()\n",
    "    \n",
    "    summary.append({\n",
    "        \"LocationID\": loc_id,\n",
    "        \"PU_Count\": pu_total,\n",
    "        \"PU_Borough_NaN\": pu_missing_borough,\n",
    "        \"PU_Zone_NaN\": pu_missing_zone,\n",
    "        \"DO_Count\": do_total,\n",
    "        \"DO_Borough_NaN\": do_missing_borough,\n",
    "        \"DO_Zone_NaN\": do_missing_zone\n",
    "    })\n",
    "\n",
    "summary_df = pd.DataFrame(summary)\n",
    "summary_df\n"
   ]
  },
  {
   "cell_type": "code",
   "execution_count": 37,
   "id": "9477a853",
   "metadata": {},
   "outputs": [
    {
     "name": "stdout",
     "output_type": "stream",
     "text": [
      "Rows with PU or DO LocationID = 264: 0\n",
      "The New Shape of the dataset is now:  (6284005, 23)\n"
     ]
    }
   ],
   "source": [
    "Taxi_Data = Taxi_Data[\n",
    "    (Taxi_Data['PULocationID'] != 264) & (Taxi_Data['DOLocationID'] != 264)\n",
    "]\n",
    "count_264 = Taxi_Data[\n",
    "    (Taxi_Data['PULocationID'] == 264) | (Taxi_Data['DOLocationID'] == 264)\n",
    "].shape[0]\n",
    "print(\"Rows with PU or DO LocationID = 264:\", count_264)\n",
    "print(\"The New Shape of the dataset is now: \", Taxi_Data.shape)"
   ]
  },
  {
   "cell_type": "code",
   "execution_count": 30,
   "id": "adf2f990",
   "metadata": {
    "scrolled": true
   },
   "outputs": [
    {
     "name": "stdout",
     "output_type": "stream",
     "text": [
      "Rows with passenger_count == 0: 113085\n",
      "VendorID                      0\n",
      "tpep_pickup_datetime          0\n",
      "tpep_dropoff_datetime         0\n",
      "passenger_count               0\n",
      "trip_distance                 0\n",
      "RatecodeID                    0\n",
      "store_and_fwd_flag            0\n",
      "PULocationID                  0\n",
      "PU_Borough                   83\n",
      "PU_Zone                       0\n",
      "DOLocationID                  0\n",
      "DO_Borough                  298\n",
      "DO_Zone                       0\n",
      "payment_type                  0\n",
      "fare_amount                   0\n",
      "extra                         0\n",
      "mta_tax                       0\n",
      "tip_amount                    0\n",
      "tolls_amount                  0\n",
      "improvement_surcharge         0\n",
      "total_amount                  0\n",
      "congestion_surcharge          0\n",
      "airport_fee              113085\n",
      "dtype: int64\n"
     ]
    }
   ],
   "source": [
    "# Rows where passenger_count == 0\n",
    "zero_passengers = Taxi_Data[Taxi_Data['passenger_count'] == 0]\n",
    "\n",
    "# Number of rows with passenger_count == 0\n",
    "print(\"Rows with passenger_count == 0:\", zero_passengers.shape[0])\n",
    "# Count NaNs per column for rows where passenger_count == 0\n",
    "na_counts_zero_passengers = zero_passengers.isna().sum()\n",
    "\n",
    "print(na_counts_zero_passengers)"
   ]
  },
  {
   "cell_type": "code",
   "execution_count": 31,
   "id": "37f473bc",
   "metadata": {},
   "outputs": [
    {
     "name": "stdout",
     "output_type": "stream",
     "text": [
      "Number of rows with dropoff before pickup: 0\n"
     ]
    }
   ],
   "source": [
    "# Rows in which the pickup time was later than the Dropoff Time\n",
    "# Keep only rows where dropoff is after pickup\n",
    "\n",
    "# Count rows where dropoff is before pickup\n",
    "invalid_time_rows = (Taxi_Data['tpep_dropoff_datetime'] < Taxi_Data['tpep_pickup_datetime']).sum()\n",
    "\n",
    "print(\"Number of rows with dropoff before pickup:\", invalid_time_rows)\n",
    "\n",
    "Taxi_Data = Taxi_Data[\n",
    "    Taxi_Data['tpep_dropoff_datetime'] >= Taxi_Data['tpep_pickup_datetime']\n",
    "]"
   ]
  },
  {
   "cell_type": "code",
   "execution_count": 32,
   "id": "c24805f5",
   "metadata": {},
   "outputs": [
    {
     "name": "stdout",
     "output_type": "stream",
     "text": [
      "Number of trips with negative distance: 13\n"
     ]
    }
   ],
   "source": [
    "# Count negative trip distances\n",
    "negative_count = (Taxi_Data['trip_distance'] < 0).sum()\n",
    "print(\"Number of trips with negative distance:\", negative_count)\n",
    "# Filter for negative trip distances\n",
    "#negative_trips = Taxi_Data[Taxi_Data['trip_distance'] < 0]\n",
    "#negative_trips\n",
    "#Taxi_Data = Taxi_Data[Taxi_Data['trip_distance'] >= 0]"
   ]
  },
  {
   "cell_type": "code",
   "execution_count": 33,
   "id": "6e13be76",
   "metadata": {
    "scrolled": true
   },
   "outputs": [
    {
     "name": "stdout",
     "output_type": "stream",
     "text": [
      "Number of trips with distance > 100 miles: 20\n"
     ]
    }
   ],
   "source": [
    "# Count trips with distance > 100 miles\n",
    "extra_long_count = (Taxi_Data['trip_distance'] > 100).sum()\n",
    "extra_long_trips = Taxi_Data[Taxi_Data['trip_distance'] > 100]\n",
    "print(\"Number of trips with distance > 100 miles:\", extra_long_count)\n"
   ]
  },
  {
   "cell_type": "code",
   "execution_count": 34,
   "id": "c0f2ac76",
   "metadata": {},
   "outputs": [
    {
     "name": "stdout",
     "output_type": "stream",
     "text": [
      "Rows with negative fares: 18800\n"
     ]
    }
   ],
   "source": [
    "negative_fares = Taxi_Data[Taxi_Data['fare_amount'] < 0]\n",
    "# Number of rows with negative fares\n",
    "print(\"Rows with negative fares:\", negative_fares.shape[0])"
   ]
  },
  {
   "cell_type": "code",
   "execution_count": 35,
   "id": "7d2c3621",
   "metadata": {},
   "outputs": [
    {
     "name": "stdout",
     "output_type": "stream",
     "text": [
      "Number of trips with fare_amount > 500: 15\n"
     ]
    }
   ],
   "source": [
    "high_fares_count = (Taxi_Data['fare_amount'] > 500).sum()\n",
    "print(\"Number of trips with fare_amount > 500:\", high_fares_count)\n",
    "high_fares = Taxi_Data[Taxi_Data['fare_amount'] > 500]"
   ]
  },
  {
   "cell_type": "code",
   "execution_count": 36,
   "id": "274a6add",
   "metadata": {},
   "outputs": [
    {
     "name": "stdout",
     "output_type": "stream",
     "text": [
      "Rows with passenger_count > 6: 45\n"
     ]
    }
   ],
   "source": [
    "# Filter rows where passenger_count > 6\n",
    "too_many_passengers = Taxi_Data[Taxi_Data['passenger_count'] > 6]\n",
    "\n",
    "# Number of rows\n",
    "print(\"Rows with passenger_count > 6:\", too_many_passengers.shape[0])"
   ]
  }
 ],
 "metadata": {
  "kernelspec": {
   "display_name": "Python 3 (ipykernel)",
   "language": "python",
   "name": "python3"
  },
  "language_info": {
   "codemirror_mode": {
    "name": "ipython",
    "version": 3
   },
   "file_extension": ".py",
   "mimetype": "text/x-python",
   "name": "python",
   "nbconvert_exporter": "python",
   "pygments_lexer": "ipython3",
   "version": "3.11.5"
  },
  "toc": {
   "base_numbering": 1,
   "nav_menu": {},
   "number_sections": true,
   "sideBar": true,
   "skip_h1_title": false,
   "title_cell": "Table of Contents",
   "title_sidebar": "Contents",
   "toc_cell": false,
   "toc_position": {},
   "toc_section_display": true,
   "toc_window_display": false
  }
 },
 "nbformat": 4,
 "nbformat_minor": 5
}
